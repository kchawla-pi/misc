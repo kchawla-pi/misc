{
 "cells": [
  {
   "cell_type": "code",
   "execution_count": 15,
   "metadata": {
    "collapsed": true
   },
   "outputs": [
    {
     "data": {
      "text/plain": [
       "OrderedDict([(3, 1), (4, 1), (2, 3), (1, 18)])"
      ]
     },
     "execution_count": 15,
     "metadata": {},
     "output_type": "execute_result"
    }
   ],
   "source": [
    "text = '''This is my test text.  We're keeping this text short to keep things manageable. \n",
    "The quick brown fox jumps over the lazy lazy lazy dog. Yes, the dog was very lazy.'''\n",
    "\n",
    "import string\n",
    "import operator\n",
    "from collections import OrderedDict as odict\n",
    "from collections import Counter\n",
    "\n",
    "text = text.lower() \n",
    "only_letters = [char_ for char_ in text if char_ in string.ascii_letters or char_ == ' ']\n",
    "words_list = ''.join(only_letters).split()\n",
    "word_freq = {word: words_list.count(word) for word in words_list}\n",
    "score_freq = {v: list(word_freq.values()).count(v) for k, v in word_freq.items()}\n",
    "score_freq = odict(sorted(score_freq.items(), key=operator.itemgetter(1)))\n",
    "score_freq\n",
    "\n"
   ]
  },
  {
   "cell_type": "code",
   "execution_count": 5,
   "metadata": {},
   "outputs": [
    {
     "data": {
      "text/plain": [
       "0.16666666666666666"
      ]
     },
     "execution_count": 5,
     "metadata": {},
     "output_type": "execute_result"
    }
   ],
   "source": [
    "4/(1+4+19)\n"
   ]
  }
 ],
 "metadata": {
  "kernelspec": {
   "display_name": "Python 2",
   "language": "python",
   "name": "python2"
  },
  "language_info": {
   "codemirror_mode": {
    "name": "ipython",
    "version": 2
   },
   "file_extension": ".py",
   "mimetype": "text/x-python",
   "name": "python",
   "nbconvert_exporter": "python",
   "pygments_lexer": "ipython2",
   "version": "2.7.6"
  }
 },
 "nbformat": 4,
 "nbformat_minor": 0
}
