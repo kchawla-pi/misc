{
 "cells": [
  {
   "cell_type": "code",
   "execution_count": 2,
   "metadata": {
    "collapsed": false
   },
   "outputs": [
    {
     "data": {
      "text/plain": [
       "OrderedDict([('is', 1),\n             ('my', 1),\n             ('test', 1),\n             ('were', 1),\n             ('keeping', 1),\n             ('short', 1),\n             ('to', 1),\n             ('keep', 1),\n             ('things', 1),\n             ('manageable', 1),\n             ('quick', 1),\n             ('brown', 1),\n             ('fox', 1),\n             ('jumps', 1),\n             ('over', 1),\n             ('yes', 1),\n             ('was', 1),\n             ('very', 1),\n             ('this', 2),\n             ('text', 2),\n             ('dog', 2),\n             ('the', 3),\n             ('lazy', 4)])"
      ]
     },
     "execution_count": 2,
     "metadata": {},
     "output_type": "execute_result"
    }
   ],
   "source": [
    "text = '''This is my test text.  We're keeping this text short to keep things manageable. \n",
    "The quick brown fox jumps over the lazy lazy lazy dog. Yes, the dog was very lazy.'''\n",
    "\n",
    "import string\n",
    "from operator import itemgetter\n",
    "from collections import OrderedDict as odict\n",
    "\n",
    "only_letters = [char_.lower() for char_ in text if char_ in string.ascii_letters or char_ == ' ']\n",
    "words_list = ''.join(only_letters).split()\n",
    "word_freq = {word: words_list.count(word) for word in words_list}\n",
    "sorted_freq = odict(sorted(word_freq.items(), key=itemgetter(1)))\n",
    "sorted_freq\n"
   ]
  },
  {
   "cell_type": "code",
   "execution_count": null,
   "metadata": {},
   "outputs": [],
   "source": []
  }
 ],
 "metadata": {
  "kernelspec": {
   "display_name": "Python 2",
   "language": "python",
   "name": "python2"
  },
  "language_info": {
   "codemirror_mode": {
    "name": "ipython",
    "version": 2
   },
   "file_extension": ".py",
   "mimetype": "text/x-python",
   "name": "python",
   "nbconvert_exporter": "python",
   "pygments_lexer": "ipython2",
   "version": "2.7.6"
  }
 },
 "nbformat": 4,
 "nbformat_minor": 0
}
