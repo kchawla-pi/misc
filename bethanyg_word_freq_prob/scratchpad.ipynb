{
 "cells": [
  {
   "cell_type": "code",
   "execution_count": 52,
   "metadata": {
    "collapsed": true
   },
   "outputs": [
    {
     "name": "stdout",
     "output_type": "stream",
     "text": [
      "Word frequencies are:\n{'brown': 1,\n 'dog': 2,\n 'fox': 1,\n 'is': 1,\n 'jumps': 1,\n 'keep': 1,\n 'keeping': 1,\n 'lazy': 4,\n 'manageable': 1,\n 'my': 1,\n 'over': 1,\n 'quick': 1,\n 'short': 1,\n 'test': 1,\n 'text': 2,\n 'the': 3,\n 'things': 1,\n 'this': 2,\n 'to': 1,\n 'very': 1,\n 'was': 1,\n 'were': 1,\n 'yes': 1}\n\nFrequency of frequencies are:\nOrderedDict([(3, 1), (4, 1), (2, 3), (1, 18)])\n\nSlecting greater than current val frequencies:\n{1: [], 2: [18], 3: [3, 18], 4: [3, 18]}\n\nfrequency distribution of frequency distribution:\n{1: 0.0, 2: 0.782608695652174, 3: 0.9130434782608695, 4: 0.9130434782608695}\n\n"
     ]
    }
   ],
   "source": [
    "text = '''This is my test text.  We're keeping this text short to keep things manageable. \n",
    "The quick brown fox jumps over the lazy lazy lazy dog. Yes, the dog was very lazy.'''\n",
    "\n",
    "import string\n",
    "import operator\n",
    "from collections import OrderedDict as odict\n",
    "\n",
    "text = text.lower() \n",
    "only_letters = [char_ for char_ in text if char_ in string.ascii_letters or char_ == ' ']\n",
    "words_list = ''.join(only_letters).split()\n",
    "word_freq = {word: words_list.count(word) for word in words_list}\n",
    "print('Word frequencies are:')\n",
    "print(word_freq)\n",
    "print()\n",
    "\n",
    "score_freq = {v: list(word_freq.values()).count(v) for k, v in word_freq.items()}\n",
    "score_freq = odict(sorted(score_freq.items(), key=operator.itemgetter(1)))\n",
    "print('Frequency of frequencies are:')\n",
    "pprint(score_freq)\n",
    "print()\n",
    "\n",
    "freq_greater = {k: [in_v for in_v in score_freq.values() if in_v > v] for k,v in score_freq.items()}\n",
    "print('Slecting greater than current val frequencies:')\n",
    "print(freq_greater)\n",
    "print()\n",
    "\n",
    "freq_total = sum(score_freq.values())\n",
    "freq_distrib_distrib = {k: sum(v)/freq_total for k, v in freq_greater.items()}\n",
    "print('frequency distribution of frequency distribution:')\n",
    "print(freq_distrib_distrib)\n",
    "print()\n",
    "\n",
    "\n",
    "# To reduce error scope, the solution for a dict such as mine:\n",
    "# {1: 18, 2: 3, 3: 1, 4: 1} --->>> {1: 0/18+3+1+1, 2: 18/18+3+1+1, 3: 18+3/18+3+1+1, 4: 18+3/18+3+1+1} \n",
    "# {1: 19, 2: 4, 4: 1} --->>>{1: 0/1+4+19,  2: 19/4+19,  4: 4+19/1+4+19}\n",
    "# {1: , 4: \n",
    "# print(list(itertools.accumulate(score_freq.values(), operator.add)))\n",
    "# print(score_freq)\n",
    "# \n",
    "# for k,v in score_freq.items():\n",
    "#     a_list = [0]\n",
    "#     print(k, '\\t', v)\n",
    "#     for in_v in score_freq.values():\n",
    "#         if in_v > v:\n",
    "#             a_list.append(in_v)\n",
    "#     print(a_list)\n",
    "# a_list = [0]            \n",
    "# {k: [in_v for in_v in score_freq.values() if in_v > v] for k,v in score_freq.items()}\n"
   ]
  },
  {
   "cell_type": "code",
   "execution_count": 21,
   "metadata": {},
   "outputs": [
    {
     "data": {
      "text/plain": [
       "odict_values([18, 3, 1, 1])"
      ]
     },
     "execution_count": 21,
     "metadata": {},
     "output_type": "execute_result"
    }
   ],
   "source": [
    "from collections import OrderedDict\n",
    "  \n",
    "stat\n",
    "# 4/(1+4+19)\n",
    "freq_freq = OrderedDict([(1, 18), (2, 3), (3, 1), (4, 1)])\n",
    "k: for k,v in freq_freq.items()\n"
   ]
  }
 ],
 "metadata": {
  "kernelspec": {
   "display_name": "Python 2",
   "language": "python",
   "name": "python2"
  },
  "language_info": {
   "codemirror_mode": {
    "name": "ipython",
    "version": 2
   },
   "file_extension": ".py",
   "mimetype": "text/x-python",
   "name": "python",
   "nbconvert_exporter": "python",
   "pygments_lexer": "ipython2",
   "version": "2.7.6"
  }
 },
 "nbformat": 4,
 "nbformat_minor": 0
}
